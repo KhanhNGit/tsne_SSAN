{
 "cells": [
  {
   "cell_type": "code",
   "execution_count": null,
   "metadata": {},
   "outputs": [],
   "source": [
    "import torch\n",
    "from networks import *\n",
    "import torch.nn as nn\n",
    "from datasets import data_merge\n",
    "from torch.utils.data import DataLoader\n",
    "from transformers import *\n",
    "from utils import *\n",
    "import numpy as np\n",
    "from loss import *\n",
    "\n",
    "pth_path = './weights/loo_photo_SSAN_paper.pth'\n",
    "model = get_model(4000)\n",
    "model = nn.DataParallel(model)\n",
    "model.load_state_dict(torch.load(pth_path)['state_dict'])\n",
    "model.to('cuda')\n",
    "model.eval()\n",
    "\n",
    "data_path = './data_for_training_SSAN_form_temp'\n",
    "data_bank = data_merge(data_path)\n",
    "dataset = data_bank.get_datasets(train=True, loo_domain=\"\", img_size=256, transform=transformer_train_ImageNet())\n",
    "dataloader = DataLoader(dataset, batch_size=1, shuffle=False, num_workers=2)\n",
    "\n",
    "all_domain = {}\n",
    "\n",
    "all_domain['photo'] = {'0': 0, '1': 1}\n",
    "all_domain['replay_clear'] = {'0': 2, '1': 3}\n",
    "all_domain['replay_notclear'] = {'0': 4, '1': 5}\n",
    "all_domain['zalo'] = {'0': 6, '1': 7}\n",
    "\n",
    "# all_domain['photo']['0'] = 0\n",
    "# all_domain['photo']['1'] = 1\n",
    "# all_domain['replay_clear']['0'] = 2\n",
    "# all_domain['replay_clear']['1'] = 3\n",
    "# all_domain['replay_notclear']['0'] = 4\n",
    "# all_domain['replay_notclear']['1'] = 5\n",
    "# all_domain['zalo']['0'] = 6\n",
    "# all_domain['zalo']['1'] = 7\n",
    "\n",
    "features = []\n",
    "new_labels = []\n",
    "\n",
    "with torch.no_grad():\n",
    "    for i, sample_batched in enumerate(dataloader):\n",
    "        image_x, label, UUID = sample_batched[\"image_x\"].cuda(), sample_batched[\"label\"], sample_batched[\"UUID\"]\n",
    "        cls_x1_x1, fea_x1_x1, fea_x1_x2, domain_invariant = model(image_x, image_x)\n",
    "        features.append(fea_x1_x1.cpu().numpy().flatten())\n",
    "        new_labels.append(all_domain[UUID[0]][str(int(label[0][0]))])\n",
    "\n",
    "features = np.array(features)\n",
    "new_labels = np.array(new_labels)"
   ]
  }
 ],
 "metadata": {
  "language_info": {
   "name": "python"
  }
 },
 "nbformat": 4,
 "nbformat_minor": 2
}
